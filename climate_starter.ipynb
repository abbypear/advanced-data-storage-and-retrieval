{
 "cells": [
  {
   "cell_type": "code",
   "execution_count": 23,
   "metadata": {},
   "outputs": [],
   "source": [
    "%matplotlib inline\n",
    "from matplotlib import style\n",
    "style.use('fivethirtyeight')\n",
    "import matplotlib.pyplot as plt"
   ]
  },
  {
   "cell_type": "code",
   "execution_count": 24,
   "metadata": {},
   "outputs": [],
   "source": [
    "import numpy as np\n",
    "import pandas as pd"
   ]
  },
  {
   "cell_type": "code",
   "execution_count": 25,
   "metadata": {},
   "outputs": [],
   "source": [
    "import datetime as dt\n",
    "from sqlalchemy.sql import func"
   ]
  },
  {
   "cell_type": "markdown",
   "metadata": {},
   "source": [
    "# Reflect Tables into SQLAlchemy ORM"
   ]
  },
  {
   "cell_type": "code",
   "execution_count": 26,
   "metadata": {},
   "outputs": [],
   "source": [
    "# Python SQL toolkit and Object Relational Mapper\n",
    "import sqlalchemy\n",
    "from sqlalchemy.ext.automap import automap_base\n",
    "from sqlalchemy.orm import Session\n",
    "from sqlalchemy import create_engine, func"
   ]
  },
  {
   "cell_type": "code",
   "execution_count": 27,
   "metadata": {},
   "outputs": [],
   "source": [
    "engine = create_engine(\"sqlite:///Resources/hawaii.sqlite\")"
   ]
  },
  {
   "cell_type": "code",
   "execution_count": 28,
   "metadata": {},
   "outputs": [],
   "source": [
    "# reflect an existing database into a new model\n",
    "Base = automap_base()\n",
    "\n",
    "# reflect the tables\n",
    "Base.prepare(engine, reflect=True)"
   ]
  },
  {
   "cell_type": "code",
   "execution_count": 30,
   "metadata": {},
   "outputs": [
    {
     "data": {
      "text/plain": [
       "['measurement', 'station']"
      ]
     },
     "execution_count": 30,
     "metadata": {},
     "output_type": "execute_result"
    }
   ],
   "source": [
    "# We can view all of the classes that automap found\n",
    "Base.classes.keys()"
   ]
  },
  {
   "cell_type": "code",
   "execution_count": 31,
   "metadata": {},
   "outputs": [],
   "source": [
    "# Save references to each table\n",
    "measurement = Base.classes.measurement\n",
    "station = Base.classes.station"
   ]
  },
  {
   "cell_type": "code",
   "execution_count": 32,
   "metadata": {},
   "outputs": [],
   "source": [
    "# Create our session (link) from Python to the DB\n",
    "session = Session(engine)"
   ]
  },
  {
   "cell_type": "code",
   "execution_count": null,
   "metadata": {},
   "outputs": [],
   "source": [
    "# equivaleint sql query\n",
    "#Select max(date) from measurement;"
   ]
  },
  {
   "cell_type": "code",
   "execution_count": 35,
   "metadata": {},
   "outputs": [
    {
     "name": "stdout",
     "output_type": "stream",
     "text": [
      "The max date in the measurement table is  2017-08-23\n"
     ]
    }
   ],
   "source": [
    "# func is a library with aggregation functions in SQL alchemy (sum, count, avg, max, min)\n",
    "max_date = session.query(func.max(measurement.date)).one()[0]\n",
    "print(f\"The max date in the measurement table is  {max_date}\")"
   ]
  },
  {
   "cell_type": "code",
   "execution_count": 39,
   "metadata": {},
   "outputs": [
    {
     "data": {
      "text/plain": [
       "datetime.datetime(2016, 8, 23, 0, 0)"
      ]
     },
     "execution_count": 39,
     "metadata": {},
     "output_type": "execute_result"
    }
   ],
   "source": [
    "from datetime import timedelta\n",
    "one_year_ago = dt.datetime.strptime(max_date, \"%Y-%m-%d\") - timedelta(days = 365)\n",
    "one_year_ago"
   ]
  },
  {
   "cell_type": "markdown",
   "metadata": {},
   "source": [
    "# Exploratory Climate Analysis"
   ]
  },
  {
   "cell_type": "code",
   "execution_count": 40,
   "metadata": {},
   "outputs": [
    {
     "name": "stdout",
     "output_type": "stream",
     "text": [
      "[(0.08,), (0.08,), (0.0,), (0.0,), (0.01,), (0.0,), (0.0,), (0.13,), (0.0,), (0.0,), (0.0,), (0.03,), (0.05,), (0.0,), (0.03,), (0.0,), (0.05,), (0.0,), (0.02,), (1.32,), (0.42,), (0.06,), (0.05,), (0.0,), (0.0,), (0.0,), (0.0,), (0.02,), (0.0,), (0.0,), (0.0,), (0.06,), (0.02,), (0.0,), (0.0,), (0.0,), (0.0,), (0.0,), (0.0,), (0.0,), (0.0,), (0.0,), (0.0,), (0.0,), (0.0,), (0.0,), (0.0,), (0.0,), (0.0,), (0.0,), (0.0,), (0.0,), (0.01,), (0.0,), (0.0,), (0.0,), (0.05,), (0.15,), (0.01,), (0.0,), (0.03,), (0.0,), (0.0,), (0.0,), (0.0,), (0.24,), (0.03,), (0.0,), (0.0,), (0.0,), (0.0,), (0.0,), (0.0,), (0.0,), (0.07,), (0.0,), (0.0,), (0.0,), (0.0,), (0.0,), (0.0,), (0.0,), (0.0,), (0.0,), (0.0,), (0.03,), (0.05,), (0.01,), (0.13,), (0.14,), (0.05,), (0.05,), (0.05,), (0.0,), (0.01,), (0.0,), (0.14,), (0.12,), (0.03,), (0.0,), (0.03,), (0.43,), (0.02,), (0.0,), (0.03,), (0.52,), (0.05,), (0.04,), (0.01,), (0.05,), (0.03,), (0.0,), (0.0,), (0.01,), (0.13,), (0.01,), (0.0,), (0.0,), (0.01,), (0.01,), (0.01,), (0.0,), (0.02,), (0.0,), (0.02,), (0.04,), (0.12,), (0.01,), (0.0,), (0.0,), (0.0,), (0.0,), (0.0,), (0.0,), (0.0,), (0.0,), (0.0,), (0.0,), (0.0,), (0.0,), (0.0,), (0.0,), (0.0,), (0.0,), (0.0,), (0.0,), (0.0,), (0.0,), (0.0,), (0.16,), (0.0,), (0.04,), (0.03,), (0.0,), (0.0,), (0.0,), (0.18,), (0.0,), (0.0,), (0.0,), (0.0,), (0.0,), (0.0,), (0.0,), (0.0,), (0.51,), (0.0,), (0.0,), (0.0,), (0.31,), (2.62,), (0.01,), (0.0,), (0.0,), (0.07,), (0.0,), (0.0,), (0.0,), (0.0,), (0.06,), (0.06,), (0.01,), (0.0,), (0.03,), (0.0,), (0.0,), (0.0,), (1.19,), (0.73,), (0.47,), (0.0,), (0.35,), (0.0,), (0.0,), (0.0,), (0.0,), (0.0,), (0.0,), (0.0,), (0.0,), (0.0,), (0.0,), (0.0,), (0.0,), (0.0,), (0.0,), (0.0,), (0.0,), (0.0,), (0.0,), (0.02,), (0.0,), (0.0,), (0.0,), (0.0,), (0.0,), (0.0,), (0.0,), (0.0,), (0.0,), (0.0,), (0.0,), (0.0,), (0.0,), (0.0,), (0.0,), (0.0,), (0.0,), (0.0,), (0.0,), (0.0,), (0.26,), (0.01,), (0.0,), (0.02,), (0.0,), (0.02,), (0.05,), (0.23,), (0.32,), (0.03,), (0.0,), (0.0,), (0.0,), (0.0,), (0.0,), (0.12,), (0.89,), (0.26,), (0.0,), (0.0,), (0.0,), (0.0,), (0.0,), (0.0,), (0.0,), (0.0,), (0.01,), (0.0,), (0.0,), (0.0,), (0.05,), (0.01,), (0.0,), (0.01,), (0.0,), (0.0,), (0.0,), (0.0,), (0.08,), (0.13,), (0.15,), (0.01,), (0.02,), (0.0,), (0.26,), (0.02,), (0.0,), (0.0,), (0.02,), (0.0,), (0.0,), (0.0,), (0.0,), (0.0,), (0.0,), (0.04,), (0.08,), (0.02,), (0.0,), (0.0,), (0.0,), (0.0,), (0.0,), (0.05,), (0.0,), (0.02,), (0.0,), (0.0,), (0.0,), (0.06,), (0.0,), (0.0,), (0.0,), (0.0,), (0.0,), (0.08,), (0.02,), (0.02,), (0.04,), (0.04,), (0.0,), (0.0,), (0.0,), (0.0,), (0.0,), (0.0,), (0.0,), (0.0,), (0.07,), (0.02,), (0.0,), (0.02,), (0.03,), (0.05,), (0.03,), (0.0,), (0.03,), (0.0,), (0.05,), (0.0,), (0.0,), (0.0,), (0.0,), (0.0,), (0.0,), (0.0,), (0.02,), (0.0,), (0.0,), (0.02,), (0.0,), (0.0,), (0.0,), (0.0,), (0.0,), (0.0,), (0.0,), (0.0,), (0.0,), (0.0,), (0.02,), (0.0,), (0.0,), (0.0,), (0.0,), (0.0,), (0.0,), (2.15,), (0.08,), (0.03,), (0.18,), (0.14,), (0.17,), (0.0,), (0.1,), (0.0,), (0.02,), (0.07,), (0.03,), (0.11,), (0.05,), (0.1,), (0.22,), (0.01,), (0.01,), (0.18,), (0.04,), (0.37,), (0.9,), (0.12,), (0.01,), (0.04,), (0.0,), (0.01,), (0.09,), (0.06,), (0.09,), (0.15,), (0.0,), (0.02,), (0.06,), (0.12,), (0.08,), (0.49,), (0.31,), (0.14,), (0.02,), (0.04,), (0.0,), (0.0,), (0.05,), (0.0,), (0.0,), (0.0,), (0.0,), (0.02,), (0.03,), (0.0,), (0.0,), (0.0,), (0.0,), (0.03,), (0.05,), (0.06,), (0.0,), (0.15,), (0.1,), (0.01,), (0.0,), (0.04,), (0.06,), (0.11,), (0.02,), (0.02,), (0.1,), (0.03,), (0.01,), (0.0,), (0.0,), (0.0,), (0.02,), (0.02,), (0.0,), (0.14,), (0.08,), (0.0,), (0.0,), (0.0,), (0.0,), (0.06,), (0.0,), (0.14,), (0.03,), (0.01,), (0.11,), (0.11,), (0.02,), (0.41,), (0.03,), (0.2,), (0.05,), (0.05,), (0.06,), (0.02,), (0.04,), (0.05,), (0.33,), (0.3,), (0.04,), (0.1,), (0.34,), (0.02,), (0.17,), (0.03,), (0.34,), (0.02,), (0.02,), (0.01,), (0.1,), (0.05,), (0.02,), (0.01,), (0.11,), (0.29,), (0.21,), (0.02,), (0.03,), (0.17,), (0.1,), (0.14,), (0.03,), (0.26,), (0.03,), (0.09,), (0.18,), (0.21,), (0.62,), (0.29,), (0.0,), (0.0,), (0.0,), (0.0,), (0.0,), (0.06,), (0.0,), (0.0,), (0.0,), (0.0,), (0.0,), (0.0,), (0.0,), (0.0,), (0.0,), (0.0,), (0.0,), (0.0,), (0.0,), (0.04,), (0.01,), (0.08,), (0.15,), (0.12,), (0.0,), (0.0,), (0.14,), (0.0,), (0.0,), (0.0,), (0.0,), (0.0,), (0.0,), (0.0,), (0.0,), (0.16,), (1.08,), (1.08,), (0.02,), (0.0,), (1.0,), (1.07,), (2.9,), (0.0,), (0.0,), (0.0,), (0.8,), (0.0,), (0.0,), (0.0,), (0.0,), (0.06,), (0.0,), (0.0,), (0.0,), (0.0,), (0.0,), (0.16,), (2.2,), (1.45,), (0.54,), (0.0,), (0.1,), (0.51,), (0.0,), (0.0,), (0.8,), (0.13,), (0.03,), (0.0,), (0.0,), (0.0,), (0.0,), (0.0,), (0.19,), (0.0,), (0.0,), (0.0,), (0.0,), (0.0,), (0.0,), (0.6,), (0.13,), (0.0,), (0.0,), (0.03,), (0.0,), (0.08,), (0.0,), (0.0,), (0.0,), (0.08,), (0.04,), (0.04,), (0.0,), (0.0,), (0.0,), (0.0,), (0.01,), (0.03,), (0.03,), (0.27,), (0.69,), (0.45,), (0.49,), (0.41,), (0.08,), (0.02,), (0.33,), (1.16,), (1.01,), (0.02,), (0.0,), (0.0,), (0.0,), (0.1,), (2.6,), (0.35,), (1.21,), (0.07,), (0.03,), (0.01,), (0.0,), (0.0,), (0.0,), (0.07,), (0.22,), (1.62,), (0.05,), (0.03,), (0.04,), (0.02,), (0.05,), (0.08,), (0.03,), (0.02,), (0.09,), (0.02,), (0.0,), (0.0,), (0.0,), (0.02,), (0.58,), (0.37,), (0.02,), (0.0,), (0.29,), (0.02,), (0.2,), (0.1,), (0.03,), (0.1,), (0.2,), (0.15,), (0.0,), (0.0,), (0.0,), (0.02,), (0.02,), (0.21,), (0.24,), (0.19,), (0.36,), (0.27,), (0.17,), (0.02,), (0.35,), (0.25,), (0.05,), (0.05,), (0.02,), (0.1,), (0.0,), (0.0,), (0.08,), (0.02,), (0.0,), (0.01,), (0.03,), (0.04,), (0.06,), (0.05,), (0.13,), (0.03,), (0.0,), (0.0,), (0.02,), (0.02,), (0.09,), (0.0,), (0.01,), (0.01,), (0.33,), (0.05,), (0.03,), (0.07,), (0.12,), (0.03,), (0.0,), (0.12,), (0.0,), (0.07,), (0.06,), (0.58,), (0.03,), (0.06,), (0.0,), (0.13,), (0.06,), (0.0,), (0.0,), (2.28,), (0.0,), (0.02,), (0.02,), (0.14,), (0.04,), (0.0,), (0.19,), (0.04,), (0.23,), (0.01,), (0.29,), (0.32,), (1.84,), (0.07,), (0.07,), (0.25,), (0.02,), (0.17,), (0.15,), (0.0,), (0.0,), (0.02,), (0.0,), (0.0,), (0.2,), (0.06,), (0.08,), (0.03,), (0.03,), (0.0,), (0.0,), (0.0,), (0.0,), (0.04,), (0.0,), (0.02,), (0.0,), (0.02,), (0.03,), (0.0,), (0.01,), (0.03,), (0.01,), (0.0,), (0.2,), (0.07,), (0.26,), (0.14,), (0.0,), (0.0,), (0.0,), (0.0,), (0.0,), (0.0,), (0.0,), (0.13,), (0.02,), (0.17,), (0.0,), (0.0,), (0.0,), (0.0,), (0.05,), (0.0,), (0.18,), (0.0,), (0.02,), (0.03,), (0.0,), (0.04,), (0.03,), (0.07,), (0.4,), (0.26,), (0.0,), (0.2,), (0.02,), (0.26,), (0.0,), (0.34,), (0.12,), (0.07,), (0.0,), (0.0,), (0.04,), (0.0,), (0.0,), (0.09,), (0.05,), (0.03,), (0.13,), (0.02,), (0.01,), (0.56,), (0.29,), (0.36,), (0.0,), (0.01,), (0.0,), (0.0,), (0.0,), (0.59,), (0.0,), (0.03,), (0.0,), (0.0,), (0.0,), (0.0,), (0.0,), (0.0,), (0.0,), (0.0,), (0.02,), (0.01,), (0.0,), (0.0,), (0.0,), (0.0,), (0.0,), (0.0,), (0.04,), (0.9,), (0.0,), (0.0,), (0.0,), (2.39,), (1.91,), (0.0,), (0.0,), (0.0,), (0.62,), (0.06,), (0.0,), (0.11,), (0.0,), (0.0,), (0.0,), (0.04,), (1.12,), (0.0,), (0.0,), (0.5,), (0.13,), (0.0,), (0.0,), (0.06,), (0.0,), (0.0,), (0.0,), (0.0,), (0.15,), (0.0,), (0.03,), (0.03,), (0.0,), (0.0,), (0.0,), (0.09,), (0.0,), (0.07,), (0.0,), (0.0,), (0.0,), (0.16,), (0.29,), (0.0,), (0.29,), (0.12,), (0.0,), (0.0,), (1.05,), (0.7,), (0.0,), (0.14,), (0.02,), (0.09,), (0.95,), (1.17,), (0.03,), (0.01,), (0.01,), (0.08,), (0.28,), (0.06,), (0.95,), (0.52,), (0.0,), (0.05,), (0.0,), (0.16,), (0.01,), (0.01,), (0.11,), (0.1,), (0.07,), (0.0,), (0.0,), (0.02,), (0.0,), (0.04,), (0.0,), (0.0,), (0.15,), (0.16,), (0.05,), (0.02,), (0.0,), (0.0,), (0.01,), (0.0,), (0.53,), (0.14,), (0.35,), (0.1,), (0.21,), (0.3,), (0.02,), (0.02,), (0.18,), (0.19,), (0.17,), (0.0,), (0.06,), (0.0,), (0.0,), (0.0,), (0.02,), (0.3,), (0.0,), (0.01,), (0.12,), (0.16,), (0.0,), (0.09,), (0.0,), (0.0,), (0.12,), (0.07,), (1.19,), (0.12,), (0.02,), (0.0,), (0.14,), (0.02,), (0.12,), (0.05,), (0.01,), (0.04,), (0.0,), (0.0,), (0.1,), (0.0,), (0.0,), (0.0,), (0.01,), (0.0,), (0.0,), (0.0,), (0.0,), (0.0,), (0.01,), (0.02,), (0.0,), (0.0,), (0.04,), (0.02,), (0.0,), (0.0,), (0.06,), (0.0,), (0.0,), (0.04,), (0.07,), (0.4,), (0.2,), (0.0,), (0.02,), (0.27,), (0.02,), (0.06,), (0.0,), (0.0,), (0.0,), (0.0,), (0.05,), (0.0,), (0.0,), (0.0,), (0.0,), (0.0,), (0.0,), (0.0,), (0.0,), (0.0,), (0.0,), (0.17,), (0.0,), (0.0,), (2.4,), (0.44,), (0.14,), (0.0,), (0.0,), (0.06,), (0.0,), (0.0,), (0.0,), (0.0,), (0.0,), (0.0,), (0.0,), (0.0,), (0.0,), (0.0,), (0.0,), (0.0,), (0.12,), (0.0,), (0.0,), (0.0,), (0.0,), (0.0,), (0.01,), (1.22,), (0.21,), (0.0,), (0.0,), (0.14,), (0.0,), (0.0,), (0.25,), (0.08,), (0.74,), (0.02,), (0.03,), (0.11,), (0.01,), (0.23,), (0.14,), (0.12,), (0.15,), (0.46,), (1.19,), (0.17,), (0.01,), (0.0,), (0.04,), (0.05,), (0.04,), (0.0,), (0.01,), (0.0,), (0.0,), (0.0,), (0.34,), (0.05,), (0.0,), (0.18,), (0.15,), (0.07,), (0.0,), (0.0,), (0.0,), (0.0,), (0.0,), (0.0,), (0.0,), (0.0,), (0.0,), (0.0,), (0.0,), (0.0,), (0.0,), (0.0,), (0.0,), (0.12,), (0.02,), (0.0,), (0.0,), (0.0,), (0.0,), (0.12,), (0.02,), (0.08,), (0.06,), (0.01,), (0.0,), (0.13,), (0.01,), (0.0,), (0.0,), (0.0,), (0.02,), (0.0,), (0.0,), (0.15,), (0.0,), (0.0,), (0.0,), (0.0,), (0.0,), (0.0,), (0.0,), (0.07,), (0.0,), (0.02,), (0.13,), (0.4,), (0.07,), (0.31,), (0.03,), (0.21,), (0.11,), (0.03,), (0.0,), (0.0,), (0.06,), (0.0,), (0.16,), (0.01,), (0.02,), (0.32,), (0.45,), (0.0,), (0.07,), (0.01,), (0.06,), (0.0,), (0.15,), (0.05,), (0.0,), (0.0,), (0.16,), (0.27,), (0.02,), (0.01,), (0.06,), (0.14,), (0.02,), (0.06,), (0.0,), (0.06,), (0.0,), (0.06,), (0.05,), (0.07,), (0.18,), (0.42,), (0.01,), (0.0,), (0.0,), (0.0,), (0.0,), (0.0,), (0.0,), (0.0,), (0.11,), (0.04,), (0.0,), (0.08,), (0.0,), (0.0,), (0.0,), (0.0,), (0.0,), (0.0,), (0.0,), (0.0,), (0.0,), (0.0,), (0.0,), (1.8,), (0.0,), (0.0,), (0.0,), (5.04,), (0.07,), (0.0,), (0.67,), (0.06,), (0.01,), (0.13,), (0.0,), (0.0,), (0.0,), (0.0,), (0.59,), (1.48,), (0.25,), (0.0,), (0.0,), (0.0,), (0.0,), (0.0,), (0.0,), (0.0,), (0.0,), (0.35,), (0.0,), (0.0,), (0.0,), (0.0,), (0.0,), (0.02,), (0.07,), (0.43,), (0.0,), (0.0,), (0.0,), (0.08,), (0.0,), (0.0,), (0.0,), (0.0,), (0.0,), (0.0,), (0.0,), (0.0,), (0.0,), (0.0,), (0.0,), (0.0,), (0.0,), (0.36,), (0.0,), (0.0,), (0.3,), (0.15,), (0.0,), (0.35,), (2.36,), (0.0,), (0.01,), (0.0,), (0.0,), (6.25,), (1.31,), (0.07,), (0.0,), (0.0,), (0.0,), (0.0,), (0.0,), (0.0,), (0.0,), (0.68,), (0.06,), (0.0,), (0.0,), (0.0,), (0.0,), (0.06,), (0.0,), (0.0,), (0.46,), (0.0,), (0.0,), (0.0,), (0.61,), (0.55,), (0.0,), (0.0,), (0.0,), (0.0,), (0.11,), (0.0,), (0.0,), (0.0,), (0.15,), (0.0,), (0.0,), (0.0,), (0.0,), (0.0,), (0.0,), (0.13,), (0.25,), (0.14,), (0.03,), (0.06,), (0.0,), (0.0,), (0.0,), (0.0,), (0.01,), (0.0,), (0.05,), (0.0,), (0.0,), (0.0,), (0.0,), (0.0,), (0.0,), (0.07,), (0.02,), (0.0,), (0.0,), (0.0,), (0.0,), (0.0,), (0.0,), (0.0,), (0.11,), (0.0,), (0.0,), (0.0,), (0.0,), (0.0,), (0.0,), (0.33,), (0.0,), (0.0,), (0.05,), (0.0,), (0.0,), (0.0,), (0.0,), (0.0,), (0.0,), (0.0,), (0.0,), (0.0,), (0.0,), (0.0,), (0.0,), (0.0,), (0.0,), (0.0,), (0.0,), (0.0,), (0.08,), (0.06,), (0.07,), (0.05,), (0.0,), (0.08,), (2.15,), (0.06,), (0.01,), (0.12,), (0.6,), (0.35,), (0.0,), (0.24,), (0.02,), (0.01,), (0.12,), (0.14,), (0.03,), (0.11,), (0.16,), (0.07,), (0.16,), (0.09,), (0.3,), (0.31,), (0.34,), (2.33,), (0.83,), (0.06,), (0.36,), (0.07,), (0.01,), (0.22,), (0.07,), (0.34,), (0.94,), (0.01,), (0.03,), (0.17,), (0.17,), (0.0,), (0.59,), (0.25,), (0.14,), (0.06,), (0.16,), (0.03,), (0.01,), (0.0,), (0.0,), (0.0,), (0.0,), (0.0,), (0.28,), (0.03,), (0.0,), (0.0,), (0.04,), (0.0,), (0.01,), (0.02,), (0.11,), (0.0,), (0.0,), (0.15,), (0.02,), (0.08,), (0.11,), (0.01,), (0.22,), (0.05,), (0.1,), (0.16,), (0.07,), (0.1,), (0.0,), (0.0,), (0.0,), (0.03,), (0.01,), (0.0,), (0.21,), (0.11,), (0.0,), (0.0,), (0.0,), (0.0,), (0.0,), (0.0,), (0.24,), (0.01,), (0.0,), (0.11,), (0.39,), (0.11,), (2.05,), (0.25,), (0.3,), (0.08,), (0.06,), (0.17,), (0.0,), (0.09,), (0.05,), (0.37,), (0.35,), (0.77,), (0.04,), (0.22,), (0.0,), (0.12,), (0.07,), (0.31,), (0.02,), (0.0,), (0.0,), (0.04,), (0.92,), (0.14,), (0.03,), (0.07,), (0.16,), (0.03,), (0.0,), (0.11,), (0.86,), (0.24,), (0.2,), (0.02,), (0.22,), (0.05,), (0.09,), (0.52,), (0.29,), (0.25,), (0.03,), (0.01,), (0.0,), (0.0,), (0.06,), (0.1,), (0.0,), (0.0,), (0.0,), (0.0,), (0.0,), (0.0,), (0.0,), (0.01,), (0.0,), (0.0,), (0.0,), (0.0,), (0.02,), (0.0,), (0.03,), (0.09,), (0.01,), (0.13,), (0.79,), (0.0,), (0.03,), (0.0,), (0.26,), (0.0,), (0.0,), (0.0,), (0.0,), (0.0,), (0.0,), (0.0,), (0.18,), (1.32,), (0.0,), (0.0,), (0.0,), (1.73,), (2.98,), (0.01,), (0.0,), (0.01,), (0.73,), (0.13,), (0.0,), (0.09,), (0.0,), (0.0,), (0.06,), (0.0,), (0.0,), (0.0,), (0.0,), (0.0,), (0.04,), (2.12,), (1.88,), (0.27,), (0.0,), (0.41,), (0.03,), (0.0,), (0.0,), (0.65,), (0.03,), (0.01,), (0.0,), (0.0,), (0.0,), (0.06,), (0.0,), (0.12,), (0.0,), (0.0,), (0.02,), (0.09,), (0.0,), (0.0,), (0.12,), (0.93,), (0.0,), (0.01,), (0.0,), (0.01,), (0.04,), (0.01,), (0.21,), (0.0,), (0.26,), (0.09,), (0.1,), (0.06,), (0.0,), (0.0,), (0.0,), (0.01,), (0.03,), (0.11,), (0.59,), (2.3,), (0.38,), (0.47,), (1.04,), (2.03,), (0.02,), (0.05,), (1.74,), (1.58,), (0.06,), (0.01,), (0.0,), (0.02,), (0.19,), (0.76,), (0.37,), (1.04,), (0.13,), (0.01,), (0.01,), (0.0,), (0.0,), (0.0,), (0.02,), (0.73,), (1.58,), (0.2,), (0.12,), (0.02,), (0.12,), (0.17,), (0.09,), (0.03,), (0.07,), (0.13,), (0.01,), (0.02,), (0.01,), (0.06,), (0.06,), (0.3,), (0.2,), (0.0,), (0.0,), (0.08,), (0.4,), (1.12,), (0.25,), (0.0,), (0.09,), (0.08,), (0.13,), (0.05,), (0.0,), (0.0,), (0.0,), (0.02,), (0.62,), (0.74,), (0.24,), (0.24,), (0.22,), (0.55,), (0.06,), (0.07,), (0.24,), (0.08,), (0.0,), (0.19,), (0.06,), (0.12,), (0.36,), (0.02,), (0.06,), (0.01,), (0.0,), (0.0,), (0.01,), (0.08,), (0.15,), (0.15,), (0.08,), (0.0,), (0.0,), (0.18,), (0.0,), (0.11,), (0.02,), (0.02,), (0.28,), (0.32,), (0.2,), (0.05,), (0.1,), (0.21,), (0.05,), (0.05,), (0.06,), (0.03,), (0.2,), (0.2,), (0.61,), (0.11,), (0.12,), (0.01,), (0.09,), (0.23,), (0.0,), (0.0,), (0.0,), (0.06,), (0.0,), (0.0,), (0.0,), (0.32,), (0.12,), (0.01,), (0.06,), (1.45,), (0.11,), (2.07,), (0.9,), (0.05,), (2.46,), (0.01,), (0.03,), (1.0,), (0.44,), (0.18,), (1.0,), (1.35,), (0.15,), (0.35,), (1.16,), (0.6,), (1.04,), (1.2,), (6.7,), (3.35,), (0.61,), (0.23,), (0.42,), (0.25,), (0.43,), (1.02,), (0.75,), (0.33,), (0.27,), (0.04,), (1.02,), (1.0,), (0.05,), (1.49,), (0.38,), (1.02,), (0.61,), (0.46,), (3.46,), (0.81,), (0.04,), (0.01,), (0.04,), (0.0,), (0.0,), (0.35,), (0.02,), (0.06,), (0.0,), (0.33,), (0.0,), (0.38,), (0.48,), (0.0,), (1.0,), (0.09,), (1.37,), (0.24,), (0.7,), (0.4,), (0.0,), (1.25,), (0.37,), (0.25,), (0.95,), (1.35,), (0.09,), (0.04,), (0.02,), (0.06,), (0.38,), (0.05,), (0.05,), (0.53,), (0.04,), (0.01,), (0.0,), (0.0,), (0.0,), (0.02,), (0.05,), (0.91,), (0.02,), (2.87,), (2.11,), (0.22,), (0.72,), (1.03,), (0.3,), (0.29,), (0.69,), (0.2,), (0.79,), (0.72,), (1.27,), (1.62,), (0.31,), (1.6,), (0.0,), (0.02,), (0.03,), (0.42,), (0.04,), (0.13,), (0.01,), (0.09,), (0.33,), (0.03,), (0.0,), (0.15,), (0.0,), (0.55,), (1.24,), (0.83,), (1.08,), (0.38,), (1.48,), (0.14,), (0.14,), (1.03,), (2.37,), (0.9,), (0.03,), (0.0,), (0.0,), (0.0,), (0.47,), (0.1,), (0.0,), (0.03,), (0.0,), (0.0,), (0.0,), (0.0,), (0.0,), (0.0,), (0.01,), (0.0,), (0.0,), (0.07,), (0.0,), (0.0,), (0.08,), (0.72,), (0.85,), (1.85,), (2.64,), (0.1,), (0.03,), (0.0,), (0.55,), (0.0,), (0.0,), (0.0,), (0.0,), (0.0,), (0.0,), (1.79,), (0.0,), (0.0,), (0.0,), (0.73,), (1.83,), (0.0,), (0.01,), (0.07,), (0.13,), (0.1,), (0.0,), (0.07,), (0.32,), (0.0,), (0.0,), (0.12,), (0.0,), (0.0,), (0.58,), (2.0,), (0.58,), (0.56,), (0.0,), (0.35,), (0.0,), (0.0,), (0.0,), (0.01,), (0.0,), (0.0,), (0.0,), (0.0,), (0.0,), (0.0,), (0.0,), (0.0,), (0.0,), (0.03,), (0.17,), (0.48,), (0.0,), (0.0,), (0.68,), (0.07,), (0.2,), (0.0,), (0.23,), (0.02,), (0.45,), (0.0,), (0.0,), (0.0,), (0.25,), (0.65,), (0.23,), (2.82,), (0.9,), (0.11,), (1.3,), (0.98,), (0.14,), (0.0,), (1.84,), (1.35,), (0.35,), (0.05,), (0.0,), (0.22,), (0.11,), (0.79,), (0.0,), (0.8,), (0.25,), (0.0,), (0.1,), (0.0,), (0.03,), (1.11,), (0.23,), (0.55,), (0.44,), (0.1,), (0.1,), (1.0,), (0.6,), (0.3,), (0.06,), (0.0,), (0.0,), (0.3,), (0.44,), (2.17,), (0.88,), (0.0,), (0.5,), (0.0,), (0.01,), (0.82,), (0.01,), (0.0,), (0.01,), (0.0,), (0.7,), (0.81,), (0.65,), (0.81,), (1.69,), (0.1,), (0.1,), (0.7,), (0.4,), (0.31,), (0.3,), (0.28,), (0.5,), (0.22,), (0.5,), (0.02,), (0.1,), (0.02,), (0.04,), (0.2,), (0.1,), (0.5,), (0.4,), (0.0,), (0.0,), (0.02,), (0.3,), (0.02,), (0.0,), (0.02,), (0.0,), (0.05,), (0.68,), (0.68,), (0.1,), (0.5,), (0.39,), (2.4,), (0.27,), (0.7,), (0.1,), (4.0,), (0.8,), (0.84,), (0.3,), (0.3,), (0.0,), (0.4,), (0.3,), (0.3,), (0.0,), (0.25,), (0.06,), (0.05,), (0.34,), (0.15,), (0.07,), (0.14,), (0.22,), (0.42,), (0.42,), (0.13,), (0.09,), (0.56,), (0.5,), (0.45,)]\n"
     ]
    }
   ],
   "source": [
    "# Design a query to retrieve the last 12 months of precipitation data and plot the results\n",
    "\n",
    "# date = dt.datetime(2016, 12, 31)  \n",
    "\n",
    "last_12_mos = session.query(measurement.prcp).\\\n",
    "    filter(measurement.date >= one_year_ago).filter(measurement.prcp <= max_date).all()\n",
    "print(last_12_mos)"
   ]
  },
  {
   "cell_type": "code",
   "execution_count": 44,
   "metadata": {},
   "outputs": [
    {
     "name": "stdout",
     "output_type": "stream",
     "text": [
      "The date 1 year ago from the last data point is ('2017-08-23',)\n"
     ]
    }
   ],
   "source": [
    "# Calculate the date 1 year ago from the last data point in the database\n",
    "last_date = session.query(measurement.date).order_by(measurement.date.desc()).first()\n",
    "print(f\"The date 1 year ago from the last data point is {last_date}\")\n",
    "\n",
    "\n",
    "# Perform a query to retrieve the data and precipitation scores\n",
    "data_and_prcp = session.query(measurement.date, measurement.prcp).filter(measurement.date >= one_year_ago)\\\n",
    "    .filter(measurement.prcp <= max_date).all()\n",
    "\n",
    "# Save the query results as a Pandas DataFrame and set the index to the date column\n",
    "data_and_prcp_df = pd.DataFrame(data_and_prcp)\n",
    "# data_and_prcp_df"
   ]
  },
  {
   "cell_type": "code",
   "execution_count": 47,
   "metadata": {},
   "outputs": [
    {
     "data": {
      "text/html": [
       "<div>\n",
       "<style scoped>\n",
       "    .dataframe tbody tr th:only-of-type {\n",
       "        vertical-align: middle;\n",
       "    }\n",
       "\n",
       "    .dataframe tbody tr th {\n",
       "        vertical-align: top;\n",
       "    }\n",
       "\n",
       "    .dataframe thead th {\n",
       "        text-align: right;\n",
       "    }\n",
       "</style>\n",
       "<table border=\"1\" class=\"dataframe\">\n",
       "  <thead>\n",
       "    <tr style=\"text-align: right;\">\n",
       "      <th></th>\n",
       "      <th>date</th>\n",
       "      <th>prcp</th>\n",
       "    </tr>\n",
       "  </thead>\n",
       "  <tbody>\n",
       "    <tr>\n",
       "      <th>0</th>\n",
       "      <td>2016-08-24</td>\n",
       "      <td>0.08</td>\n",
       "    </tr>\n",
       "    <tr>\n",
       "      <th>1024</th>\n",
       "      <td>2016-08-24</td>\n",
       "      <td>1.22</td>\n",
       "    </tr>\n",
       "    <tr>\n",
       "      <th>700</th>\n",
       "      <td>2016-08-24</td>\n",
       "      <td>2.28</td>\n",
       "    </tr>\n",
       "    <tr>\n",
       "      <th>1688</th>\n",
       "      <td>2016-08-24</td>\n",
       "      <td>1.45</td>\n",
       "    </tr>\n",
       "    <tr>\n",
       "      <th>358</th>\n",
       "      <td>2016-08-24</td>\n",
       "      <td>2.15</td>\n",
       "    </tr>\n",
       "    <tr>\n",
       "      <th>...</th>\n",
       "      <td>...</td>\n",
       "      <td>...</td>\n",
       "    </tr>\n",
       "    <tr>\n",
       "      <th>2013</th>\n",
       "      <td>2017-08-22</td>\n",
       "      <td>0.50</td>\n",
       "    </tr>\n",
       "    <tr>\n",
       "      <th>357</th>\n",
       "      <td>2017-08-23</td>\n",
       "      <td>0.00</td>\n",
       "    </tr>\n",
       "    <tr>\n",
       "      <th>1336</th>\n",
       "      <td>2017-08-23</td>\n",
       "      <td>0.08</td>\n",
       "    </tr>\n",
       "    <tr>\n",
       "      <th>963</th>\n",
       "      <td>2017-08-23</td>\n",
       "      <td>0.00</td>\n",
       "    </tr>\n",
       "    <tr>\n",
       "      <th>2014</th>\n",
       "      <td>2017-08-23</td>\n",
       "      <td>0.45</td>\n",
       "    </tr>\n",
       "  </tbody>\n",
       "</table>\n",
       "<p>2015 rows × 2 columns</p>\n",
       "</div>"
      ],
      "text/plain": [
       "            date  prcp\n",
       "0     2016-08-24  0.08\n",
       "1024  2016-08-24  1.22\n",
       "700   2016-08-24  2.28\n",
       "1688  2016-08-24  1.45\n",
       "358   2016-08-24  2.15\n",
       "...          ...   ...\n",
       "2013  2017-08-22  0.50\n",
       "357   2017-08-23  0.00\n",
       "1336  2017-08-23  0.08\n",
       "963   2017-08-23  0.00\n",
       "2014  2017-08-23  0.45\n",
       "\n",
       "[2015 rows x 2 columns]"
      ]
     },
     "execution_count": 47,
     "metadata": {},
     "output_type": "execute_result"
    }
   ],
   "source": [
    "# Sort the dataframe by date\n",
    "sorted_by_date = data_and_prcp_df.copy()\n",
    "\n",
    "sorted_by_date['date'] = [ dt.datetime.strptime(d, \"%Y-%m-%d\") for d in sorted_by_date['date'] ]\n",
    "\n",
    "\n",
    "\n",
    "sorted_by_date = sorted_by_date.sort_values('date')\n",
    "sorted_by_date"
   ]
  },
  {
   "cell_type": "code",
   "execution_count": 49,
   "metadata": {},
   "outputs": [
    {
     "data": {
      "image/png": "[encoded data removed]",
      "text/plain": [
       "<Figure size 432x288 with 1 Axes>"
      ]
     },
     "metadata": {},
     "output_type": "display_data"
    }
   ],
   "source": [
    "# Use Pandas Plotting with Matplotlib to plot the data\n",
    "df = pd.DataFrame(data_and_prcp_df, columns=['prcp', 'date'])\n",
    "df.plot(kind=\"line\")\n",
    "plt.show()"
   ]
  },
  {
   "cell_type": "code",
   "execution_count": 12,
   "metadata": {},
   "outputs": [
    {
     "data": {
      "text/html": [
       "<div>\n",
       "<style scoped>\n",
       "    .dataframe tbody tr th:only-of-type {\n",
       "        vertical-align: middle;\n",
       "    }\n",
       "\n",
       "    .dataframe tbody tr th {\n",
       "        vertical-align: top;\n",
       "    }\n",
       "\n",
       "    .dataframe thead th {\n",
       "        text-align: right;\n",
       "    }\n",
       "</style>\n",
       "<table border=\"1\" class=\"dataframe\">\n",
       "  <thead>\n",
       "    <tr style=\"text-align: right;\">\n",
       "      <th></th>\n",
       "      <th>prcp</th>\n",
       "    </tr>\n",
       "  </thead>\n",
       "  <tbody>\n",
       "    <tr>\n",
       "      <th>count</th>\n",
       "      <td>4.0000</td>\n",
       "    </tr>\n",
       "    <tr>\n",
       "      <th>mean</th>\n",
       "      <td>0.1325</td>\n",
       "    </tr>\n",
       "    <tr>\n",
       "      <th>std</th>\n",
       "      <td>0.2150</td>\n",
       "    </tr>\n",
       "    <tr>\n",
       "      <th>min</th>\n",
       "      <td>0.0000</td>\n",
       "    </tr>\n",
       "    <tr>\n",
       "      <th>25%</th>\n",
       "      <td>0.0000</td>\n",
       "    </tr>\n",
       "    <tr>\n",
       "      <th>50%</th>\n",
       "      <td>0.0400</td>\n",
       "    </tr>\n",
       "    <tr>\n",
       "      <th>75%</th>\n",
       "      <td>0.1725</td>\n",
       "    </tr>\n",
       "    <tr>\n",
       "      <th>max</th>\n",
       "      <td>0.4500</td>\n",
       "    </tr>\n",
       "  </tbody>\n",
       "</table>\n",
       "</div>"
      ],
      "text/plain": [
       "         prcp\n",
       "count  4.0000\n",
       "mean   0.1325\n",
       "std    0.2150\n",
       "min    0.0000\n",
       "25%    0.0000\n",
       "50%    0.0400\n",
       "75%    0.1725\n",
       "max    0.4500"
      ]
     },
     "execution_count": 12,
     "metadata": {},
     "output_type": "execute_result"
    }
   ],
   "source": [
    "# Use Pandas to calcualte the summary statistics for the precipitation data\n",
    "sorted_by_date.describe()\n"
   ]
  },
  {
   "cell_type": "code",
   "execution_count": 13,
   "metadata": {},
   "outputs": [
    {
     "data": {
      "text/plain": [
       "9"
      ]
     },
     "execution_count": 13,
     "metadata": {},
     "output_type": "execute_result"
    }
   ],
   "source": [
    "# Design a query to show how many stations are available in this dataset?\n",
    "total_stations = session.query(station).filter(station.id).count()\n",
    "total_stations"
   ]
  },
  {
   "cell_type": "code",
   "execution_count": 52,
   "metadata": {},
   "outputs": [
    {
     "data": {
      "text/plain": [
       "[('USC00519281', 2772),\n",
       " ('USC00519397', 2724),\n",
       " ('USC00513117', 2709),\n",
       " ('USC00519523', 2669),\n",
       " ('USC00516128', 2612),\n",
       " ('USC00514830', 2202),\n",
       " ('USC00511918', 1979),\n",
       " ('USC00517948', 1372),\n",
       " ('USC00518838', 511)]"
      ]
     },
     "execution_count": 52,
     "metadata": {},
     "output_type": "execute_result"
    }
   ],
   "source": [
    "# What are the most active stations? (i.e. what stations have the most rows)?\n",
    "# List the stations and the counts in descending order.\n",
    "act_station = session.query(measurement.station, func.count(measurement.station)).\\\n",
    "    group_by(measurement.station).\\\n",
    "    order_by(func.count(measurement.station).desc()).all()\n",
    "act_station"
   ]
  },
  {
   "cell_type": "code",
   "execution_count": 34,
   "metadata": {},
   "outputs": [
    {
     "name": "stdout",
     "output_type": "stream",
     "text": [
      "The lowest temperature is [(54.0,)], the highest temperature is [(85.0,)], and the average temperature is [(71.66378066378067,)]\n"
     ]
    }
   ],
   "source": [
    "# Using the station id from the previous query, calculate the lowest temperature recorded, \n",
    "# highest temperature recorded, and average temperature of the most active station?\n",
    "lowest_temp = session.query(func.min(measurement.tobs)).\\\n",
    "filter(measurement.station == 'USC00519281').all()\n",
    "\n",
    "highest_temp = session.query(func.max(measurement.tobs)).\\\n",
    "filter(measurement.station == 'USC00519281').all()\n",
    "\n",
    "avg_temp = session.query(func.avg(measurement.tobs)).\\\n",
    "filter(measurement.station == 'USC00519281').all()\n",
    "\n",
    "print(f\"The lowest temperature is {lowest_temp}, the highest temperature is {highest_temp}, and the average temperature is {avg_temp}\")"
   ]
  },
  {
   "cell_type": "code",
   "execution_count": 54,
   "metadata": {},
   "outputs": [
    {
     "data": {
      "text/html": [
       "<div>\n",
       "<style scoped>\n",
       "    .dataframe tbody tr th:only-of-type {\n",
       "        vertical-align: middle;\n",
       "    }\n",
       "\n",
       "    .dataframe tbody tr th {\n",
       "        vertical-align: top;\n",
       "    }\n",
       "\n",
       "    .dataframe thead th {\n",
       "        text-align: right;\n",
       "    }\n",
       "</style>\n",
       "<table border=\"1\" class=\"dataframe\">\n",
       "  <thead>\n",
       "    <tr style=\"text-align: right;\">\n",
       "      <th></th>\n",
       "      <th>tobs</th>\n",
       "    </tr>\n",
       "  </thead>\n",
       "  <tbody>\n",
       "    <tr>\n",
       "      <th>0</th>\n",
       "      <td>81.0</td>\n",
       "    </tr>\n",
       "    <tr>\n",
       "      <th>1</th>\n",
       "      <td>82.0</td>\n",
       "    </tr>\n",
       "    <tr>\n",
       "      <th>2</th>\n",
       "      <td>82.0</td>\n",
       "    </tr>\n",
       "    <tr>\n",
       "      <th>3</th>\n",
       "      <td>76.0</td>\n",
       "    </tr>\n",
       "    <tr>\n",
       "      <th>4</th>\n",
       "      <td>82.0</td>\n",
       "    </tr>\n",
       "    <tr>\n",
       "      <th>...</th>\n",
       "      <td>...</td>\n",
       "    </tr>\n",
       "    <tr>\n",
       "      <th>2225</th>\n",
       "      <td>80.0</td>\n",
       "    </tr>\n",
       "    <tr>\n",
       "      <th>2226</th>\n",
       "      <td>80.0</td>\n",
       "    </tr>\n",
       "    <tr>\n",
       "      <th>2227</th>\n",
       "      <td>80.0</td>\n",
       "    </tr>\n",
       "    <tr>\n",
       "      <th>2228</th>\n",
       "      <td>77.0</td>\n",
       "    </tr>\n",
       "    <tr>\n",
       "      <th>2229</th>\n",
       "      <td>74.0</td>\n",
       "    </tr>\n",
       "  </tbody>\n",
       "</table>\n",
       "<p>2230 rows × 1 columns</p>\n",
       "</div>"
      ],
      "text/plain": [
       "      tobs\n",
       "0     81.0\n",
       "1     82.0\n",
       "2     82.0\n",
       "3     76.0\n",
       "4     82.0\n",
       "...    ...\n",
       "2225  80.0\n",
       "2226  80.0\n",
       "2227  80.0\n",
       "2228  77.0\n",
       "2229  74.0\n",
       "\n",
       "[2230 rows x 1 columns]"
      ]
     },
     "execution_count": 54,
     "metadata": {},
     "output_type": "execute_result"
    }
   ],
   "source": [
    "# Choose the station with the highest number of temperature observations.\n",
    "# Query the last 12 months of temperature observation data for this station and plot the results as a histogram\n",
    "\n",
    "USC00519281_2016 = dt.date(2017, 8, 23) - dt.timedelta(days=365)\n",
    "USC00519281_2016\n",
    "     \n",
    "last_12_mos = session.query(measurement.tobs).\\\n",
    "filter(measurement.date >= '2016-08-23').\\\n",
    "filter(measurement.tobs).\\\n",
    "order_by(measurement.date.desc()).all()\n",
    "pd.DataFrame(last_12_mos)"
   ]
  },
  {
   "cell_type": "code",
   "execution_count": 56,
   "metadata": {},
   "outputs": [
    {
     "data": {
      "image/png": "[encoded data removed]",
      "text/plain": [
       "<Figure size 432x288 with 1 Axes>"
      ]
     },
     "metadata": {},
     "output_type": "display_data"
    }
   ],
   "source": [
    "temp_df = pd.DataFrame(last_12_mos, columns=['TOBs'])\n",
    "# temp_df.set_index('Date', inplace=True, )\n",
    "# temp_df.head(10)\n",
    "\n",
    "temp_df.plot(kind=\"hist\", bins=12,title='Waihee Station (#USC00519281) TOBs Data 08/23/2016-08/23/2017',stacked=True,fontsize=10)\n",
    "plt.ylabel(\"Frequency\")\n",
    "plt.xlabel(\"Temperature\")\n",
    "plt.legend(['tobs'],loc='best')\n",
    "plt.grid(b=True)\n",
    "plt.tight_layout()\n",
    "plt.show()"
   ]
  },
  {
   "cell_type": "markdown",
   "metadata": {},
   "source": [
    "## Bonus Challenge Assignment"
   ]
  },
  {
   "cell_type": "code",
   "execution_count": 16,
   "metadata": {},
   "outputs": [
    {
     "ename": "NameError",
     "evalue": "name 'Measurement' is not defined",
     "output_type": "error",
     "traceback": [
      "\u001b[1;31m---------------------------------------------------------------------------\u001b[0m",
      "\u001b[1;31mNameError\u001b[0m                                 Traceback (most recent call last)",
      "\u001b[1;32m<ipython-input-16-790a4fe371b5>\u001b[0m in \u001b[0;36m<module>\u001b[1;34m\u001b[0m\n\u001b[0;32m     16\u001b[0m \u001b[1;33m\u001b[0m\u001b[0m\n\u001b[0;32m     17\u001b[0m \u001b[1;31m# function usage example\u001b[0m\u001b[1;33m\u001b[0m\u001b[1;33m\u001b[0m\u001b[1;33m\u001b[0m\u001b[0m\n\u001b[1;32m---> 18\u001b[1;33m \u001b[0mprint\u001b[0m\u001b[1;33m(\u001b[0m\u001b[0mcalc_temps\u001b[0m\u001b[1;33m(\u001b[0m\u001b[1;34m'2012-02-28'\u001b[0m\u001b[1;33m,\u001b[0m \u001b[1;34m'2012-03-05'\u001b[0m\u001b[1;33m)\u001b[0m\u001b[1;33m)\u001b[0m\u001b[1;33m\u001b[0m\u001b[1;33m\u001b[0m\u001b[0m\n\u001b[0m",
      "\u001b[1;32m<ipython-input-16-790a4fe371b5>\u001b[0m in \u001b[0;36mcalc_temps\u001b[1;34m(start_date, end_date)\u001b[0m\n\u001b[0;32m     12\u001b[0m     \"\"\"\n\u001b[0;32m     13\u001b[0m \u001b[1;33m\u001b[0m\u001b[0m\n\u001b[1;32m---> 14\u001b[1;33m     \u001b[1;32mreturn\u001b[0m \u001b[0msession\u001b[0m\u001b[1;33m.\u001b[0m\u001b[0mquery\u001b[0m\u001b[1;33m(\u001b[0m\u001b[0mfunc\u001b[0m\u001b[1;33m.\u001b[0m\u001b[0mmin\u001b[0m\u001b[1;33m(\u001b[0m\u001b[0mMeasurement\u001b[0m\u001b[1;33m.\u001b[0m\u001b[0mtobs\u001b[0m\u001b[1;33m)\u001b[0m\u001b[1;33m,\u001b[0m \u001b[0mfunc\u001b[0m\u001b[1;33m.\u001b[0m\u001b[0mavg\u001b[0m\u001b[1;33m(\u001b[0m\u001b[0mMeasurement\u001b[0m\u001b[1;33m.\u001b[0m\u001b[0mtobs\u001b[0m\u001b[1;33m)\u001b[0m\u001b[1;33m,\u001b[0m \u001b[0mfunc\u001b[0m\u001b[1;33m.\u001b[0m\u001b[0mmax\u001b[0m\u001b[1;33m(\u001b[0m\u001b[0mMeasurement\u001b[0m\u001b[1;33m.\u001b[0m\u001b[0mtobs\u001b[0m\u001b[1;33m)\u001b[0m\u001b[1;33m)\u001b[0m\u001b[1;33m.\u001b[0m\u001b[0;31m\\\u001b[0m\u001b[1;33m\u001b[0m\u001b[1;33m\u001b[0m\u001b[0m\n\u001b[0m\u001b[0;32m     15\u001b[0m         \u001b[0mfilter\u001b[0m\u001b[1;33m(\u001b[0m\u001b[0mMeasurement\u001b[0m\u001b[1;33m.\u001b[0m\u001b[0mdate\u001b[0m \u001b[1;33m>=\u001b[0m \u001b[0mstart_date\u001b[0m\u001b[1;33m)\u001b[0m\u001b[1;33m.\u001b[0m\u001b[0mfilter\u001b[0m\u001b[1;33m(\u001b[0m\u001b[0mMeasurement\u001b[0m\u001b[1;33m.\u001b[0m\u001b[0mdate\u001b[0m \u001b[1;33m<=\u001b[0m \u001b[0mend_date\u001b[0m\u001b[1;33m)\u001b[0m\u001b[1;33m.\u001b[0m\u001b[0mall\u001b[0m\u001b[1;33m(\u001b[0m\u001b[1;33m)\u001b[0m\u001b[1;33m\u001b[0m\u001b[1;33m\u001b[0m\u001b[0m\n\u001b[0;32m     16\u001b[0m \u001b[1;33m\u001b[0m\u001b[0m\n",
      "\u001b[1;31mNameError\u001b[0m: name 'Measurement' is not defined"
     ]
    }
   ],
   "source": [
    "# This function called `calc_temps` will accept start date and end date in the format '%Y-%m-%d' \n",
    "# and return the minimum, average, and maximum temperatures for that range of dates\n",
    "def calc_temps(start_date, end_date):\n",
    "    \"\"\"TMIN, TAVG, and TMAX for a list of dates.\n",
    "    \n",
    "    Args:\n",
    "        start_date (string): A date string in the format %Y-%m-%d\n",
    "        end_date (string): A date string in the format %Y-%m-%d\n",
    "        \n",
    "    Returns:\n",
    "        TMIN, TAVE, and TMAX\n",
    "    \"\"\"\n",
    "    \n",
    "    return session.query(func.min(Measurement.tobs), func.avg(Measurement.tobs), func.max(Measurement.tobs)).\\\n",
    "        filter(Measurement.date >= start_date).filter(Measurement.date <= end_date).all()\n",
    "\n",
    "# function usage example\n",
    "print(calc_temps('2012-02-28', '2012-03-05'))"
   ]
  },
  {
   "cell_type": "code",
   "execution_count": null,
   "metadata": {},
   "outputs": [],
   "source": [
    "# Use your previous function `calc_temps` to calculate the tmin, tavg, and tmax \n",
    "# for your trip using the previous year's data for those same dates.\n"
   ]
  },
  {
   "cell_type": "code",
   "execution_count": null,
   "metadata": {},
   "outputs": [],
   "source": [
    "# Plot the results from your previous query as a bar chart. \n",
    "# Use \"Trip Avg Temp\" as your Title\n",
    "# Use the average temperature for the y value\n",
    "# Use the peak-to-peak (tmax-tmin) value as the y error bar (yerr)\n"
   ]
  },
  {
   "cell_type": "code",
   "execution_count": null,
   "metadata": {},
   "outputs": [],
   "source": [
    "# Calculate the total amount of rainfall per weather station for your trip dates using the previous year's matching dates.\n",
    "# Sort this in descending order by precipitation amount and list the station, name, latitude, longitude, and elevation\n",
    "\n"
   ]
  },
  {
   "cell_type": "code",
   "execution_count": null,
   "metadata": {},
   "outputs": [],
   "source": [
    "# Create a query that will calculate the daily normals \n",
    "# (i.e. the averages for tmin, tmax, and tavg for all historic data matching a specific month and day)\n",
    "\n",
    "def daily_normals(date):\n",
    "    \"\"\"Daily Normals.\n",
    "    \n",
    "    Args:\n",
    "        date (str): A date string in the format '%m-%d'\n",
    "        \n",
    "    Returns:\n",
    "        A list of tuples containing the daily normals, tmin, tavg, and tmax\n",
    "    \n",
    "    \"\"\"\n",
    "    \n",
    "    sel = [func.min(Measurement.tobs), func.avg(Measurement.tobs), func.max(Measurement.tobs)]\n",
    "    return session.query(*sel).filter(func.strftime(\"%m-%d\", Measurement.date) == date).all()\n",
    "    \n",
    "daily_normals(\"01-01\")"
   ]
  },
  {
   "cell_type": "code",
   "execution_count": null,
   "metadata": {},
   "outputs": [],
   "source": [
    "# calculate the daily normals for your trip\n",
    "# push each tuple of calculations into a list called `normals`\n",
    "\n",
    "# Set the start and end date of the trip\n",
    "\n",
    "# Use the start and end date to create a range of dates\n",
    "\n",
    "# Stip off the year and save a list of %m-%d strings\n",
    "\n",
    "# Loop through the list of %m-%d strings and calculate the normals for each date\n"
   ]
  },
  {
   "cell_type": "code",
   "execution_count": null,
   "metadata": {},
   "outputs": [],
   "source": [
    "# Load the previous query results into a Pandas DataFrame and add the `trip_dates` range as the `date` index\n"
   ]
  },
  {
   "cell_type": "code",
   "execution_count": null,
   "metadata": {},
   "outputs": [],
   "source": [
    "# Plot the daily normals as an area plot with `stacked=False`\n"
   ]
  }
 ],
 "metadata": {
  "kernel_info": {
   "name": "python3"
  },
  "kernelspec": {
   "display_name": "Python 3",
   "language": "python",
   "name": "python3"
  },
  "language_info": {
   "codemirror_mode": {
    "name": "ipython",
    "version": 3
   },
   "file_extension": ".py",
   "mimetype": "text/x-python",
   "name": "python",
   "nbconvert_exporter": "python",
   "pygments_lexer": "ipython3",
   "version": "3.8.3"
  },
  "nteract": {
   "version": "0.12.3"
  },
  "varInspector": {
   "cols": {
    "lenName": 16,
    "lenType": 16,
    "lenVar": 40
   },
   "kernels_config": {
    "python": {
     "delete_cmd_postfix": "",
     "delete_cmd_prefix": "del ",
     "library": "var_list.py",
     "varRefreshCmd": "print(var_dic_list())"
    },
    "r": {
     "delete_cmd_postfix": ") ",
     "delete_cmd_prefix": "rm(",
     "library": "var_list.r",
     "varRefreshCmd": "cat(var_dic_list()) "
    }
   },
   "types_to_exclude": [
    "module",
    "function",
    "builtin_function_or_method",
    "instance",
    "_Feature"
   ],
   "window_display": false
  }
 },
 "nbformat": 4,
 "nbformat_minor": 2
}
